{
 "cells": [
  {
   "cell_type": "markdown",
   "metadata": {},
   "source": [
    "# Confidence Intervals"
   ]
  },
  {
   "cell_type": "code",
   "execution_count": 255,
   "metadata": {
    "ExecuteTime": {
     "end_time": "2021-04-22T09:48:12.734114Z",
     "start_time": "2021-04-22T09:48:12.691431Z"
    }
   },
   "outputs": [],
   "source": [
    "import numpy as np\n",
    "import pandas as pd\n",
    "from scipy.stats import norm\n",
    "from scipy.stats import chi2\n",
    "from scipy.stats import t\n",
    "import scipy.stats as st"
   ]
  },
  {
   "cell_type": "markdown",
   "metadata": {},
   "source": [
    "## Challenge 1\n",
    "We want to estimate the average size of the men of a country with a confidence level of 80%. Assuming that the standard deviation of the sizes in the population is 4, get the confidence interval with a sample of men selected randomly, whose heights are:\n",
    "\n",
    "````\n",
    "heights = [167, 167, 168, 168, 168, 169, 171, 172, 173, 175, 175, 175, 177, 182, 195]\n",
    "````\n",
    "\n",
    "**Hint**: function `stats.norm.interval` from `scipy` can help you get through this exercise. "
   ]
  },
  {
   "cell_type": "code",
   "execution_count": 245,
   "metadata": {
    "ExecuteTime": {
     "end_time": "2021-04-22T09:24:41.023900Z",
     "start_time": "2021-04-22T09:24:40.888873Z"
    }
   },
   "outputs": [
    {
     "data": {
      "text/plain": [
       "(172.14308590115726, 174.79024743217607)"
      ]
     },
     "execution_count": 245,
     "metadata": {},
     "output_type": "execute_result"
    }
   ],
   "source": [
    "heights = [167, 167, 168, 168, 168, 169, 171, 172, 173, 175, 175, 175, 177, 182, 195]\n",
    "\n",
    "size_mean = np.mean(heights)\n",
    "\n",
    "n = len(heights)\n",
    "size_std_dev = 4\n",
    "\n",
    "std_er = size_std_dev/np.sqrt(n)\n",
    "\n",
    "norm.interval(0.8,loc=size_mean,scale=std_er)"
   ]
  },
  {
   "cell_type": "markdown",
   "metadata": {},
   "source": [
    "## Challenge 2 \n",
    "In a sample of 105 shops selected randomly from an area, we note that 27 of them have had losses in this month. Get an interval for the proportion of businesses in the area with losses to a confidence level of 80% and a confidence level of 90%.\n",
    "\n",
    "**Hint**: function `stats.norm.interval` from `scipy` can help you get through this exercise. "
   ]
  },
  {
   "cell_type": "code",
   "execution_count": 31,
   "metadata": {
    "ExecuteTime": {
     "end_time": "2021-04-21T15:00:13.000539Z",
     "start_time": "2021-04-21T15:00:12.986501Z"
    }
   },
   "outputs": [
    {
     "name": "stdout",
     "output_type": "stream",
     "text": [
      "With 80% CL: (0.20248138545542083, 0.3118043288302934)\n",
      "With 90% CL: (0.1869856177645281, 0.3273000965211861)\n"
     ]
    }
   ],
   "source": [
    "total_shops = 105\n",
    "loss_shops = 27\n",
    "\n",
    "p = loss_shops/total_shops\n",
    "\n",
    "std_er = np.sqrt(p*(1-p)/total_shops)\n",
    "shop_cl1 = 0.8\n",
    "shop_cl2 = 0.9\n",
    "\n",
    "interval1 = norm.interval(shop_cl1,loc=p,scale=std_er)\n",
    "print('With 80% CL:',interval1)\n",
    "\n",
    "interval2 = norm.interval(shop_cl2,loc=p,scale=std_er)\n",
    "print('With 90% CL:',interval2)"
   ]
  },
  {
   "cell_type": "markdown",
   "metadata": {},
   "source": [
    "## Challenge 3 - More practice\n",
    "For the same example in challenge 1, calculate a confidence interval for the variance at 90% level.\n",
    "\n",
    "**Hint**: function `stats.chi2.interval` from `scipy` can help you get through this exercise. "
   ]
  },
  {
   "cell_type": "code",
   "execution_count": 250,
   "metadata": {
    "ExecuteTime": {
     "end_time": "2021-04-22T09:27:33.922359Z",
     "start_time": "2021-04-22T09:27:33.832298Z"
    }
   },
   "outputs": [
    {
     "data": {
      "text/plain": [
       "[9.457545862108569, 34.09109215175866]"
      ]
     },
     "execution_count": 250,
     "metadata": {},
     "output_type": "execute_result"
    }
   ],
   "source": [
    "heights = [167, 167, 168, 168, 168, 169, 171, 172, 173, 175, 175, 175, 177, 182, 195]\n",
    "\n",
    "n = len(heights)\n",
    "score = st.chi2.interval(0.9,df=n-1)\n",
    "\n",
    "# quasi_var = np.var(heights)*n/(n-1)\n",
    "\n",
    "var = 4**2\n",
    "\n",
    "interval = [(n-1)*var/score[1],(n-1)*var/score[0]]\n",
    "\n",
    "#st.tvar(heights,ddof=1)\n",
    "interval"
   ]
  },
  {
   "cell_type": "code",
   "execution_count": 161,
   "metadata": {
    "ExecuteTime": {
     "end_time": "2021-04-21T16:10:29.380627Z",
     "start_time": "2021-04-21T16:10:29.335440Z"
    }
   },
   "outputs": [
    {
     "data": {
      "text/plain": [
       "54.12380952380952"
      ]
     },
     "execution_count": 161,
     "metadata": {},
     "output_type": "execute_result"
    }
   ],
   "source": [
    "quasi_var"
   ]
  },
  {
   "cell_type": "markdown",
   "metadata": {},
   "source": [
    "## Challenge 4 - More practice\n",
    "The sulfuric acid content of 7 similar containers is 9.8, 10.2, 10.4, 9.8, 10.0, 10.2 and 9.6 liters. Calculate a 95% confidence interval for the average content of all containers assuming an approximately normal distribution.\n",
    "\n",
    "```\n",
    "acid = [9.8, 10.2, 10.4, 9.8, 10.0, 10.2, 9.6]\n",
    "```\n",
    "\n",
    "**Hint**: function `stats.t.interval` from `scipy` can help you get through this exercise. "
   ]
  },
  {
   "cell_type": "code",
   "execution_count": 88,
   "metadata": {
    "ExecuteTime": {
     "end_time": "2021-04-21T15:08:13.724298Z",
     "start_time": "2021-04-21T15:08:13.705431Z"
    }
   },
   "outputs": [
    {
     "data": {
      "text/plain": [
       "(9.738414120176683, 10.261585879823317)"
      ]
     },
     "execution_count": 88,
     "metadata": {},
     "output_type": "execute_result"
    }
   ],
   "source": [
    "acid = [9.8, 10.2, 10.4, 9.8, 10.0, 10.2, 9.6]\n",
    "\n",
    "n = len(acid)\n",
    "CL = 0.95\n",
    "\n",
    "acid_sem = st.sem(acid)\n",
    "acid_mean = np.mean(acid)\n",
    "\n",
    "st.t.interval(CL,df=n-1,loc=acid_mean,scale=acid_sem)"
   ]
  },
  {
   "cell_type": "markdown",
   "metadata": {},
   "source": [
    "## Bonus Challenge\n",
    "The error level or sampling error for the first challenge is given by the following expression:\n",
    "$$Error = z_{\\frac{\\alpha}{2}}\\frac{\\sigma}{\\sqrt n}$$\n",
    "Where z represents the value for N(0,1)\n",
    "\n",
    "\n",
    "Suppose that with the previous data of challenge 1, and with a confidence level of\n",
    "99% (that is, almost certainly) we want to estimate the average population size, so that the error level committed is not greater than half a centimeter.\n",
    "\n",
    "#### 1.- Determine what size the selected sample of men should be."
   ]
  },
  {
   "cell_type": "code",
   "execution_count": 230,
   "metadata": {
    "ExecuteTime": {
     "end_time": "2021-04-21T20:26:09.081055Z",
     "start_time": "2021-04-21T20:26:09.073624Z"
    }
   },
   "outputs": [
    {
     "name": "stdout",
     "output_type": "stream",
     "text": [
      "A sample size of at least 425 is needed\n"
     ]
    }
   ],
   "source": [
    "score = st.norm.interval(0.99)[1]\n",
    "\n",
    "error_lim = 0.5\n",
    "\n",
    "pop_std_dev = 4\n",
    "\n",
    "n_need = np.ceil((score*pop_std_dev/error_lim)**2)\n",
    "\n",
    "print('A sample size of at least %d is needed' % n_need)\n"
   ]
  },
  {
   "cell_type": "markdown",
   "metadata": {},
   "source": [
    "#### 2.- For the second challenge, we have the following error:\n",
    "$$ Error = z_{\\frac{\\alpha}{2}}\\sqrt{\\frac{p\\times q}{n}} $$\n",
    "#### Determine the sample size required to not exceed an error of 1% with a confidence of 80%."
   ]
  },
  {
   "cell_type": "code",
   "execution_count": 251,
   "metadata": {
    "ExecuteTime": {
     "end_time": "2021-04-22T09:29:27.746707Z",
     "start_time": "2021-04-22T09:29:27.678582Z"
    }
   },
   "outputs": [
    {
     "name": "stdout",
     "output_type": "stream",
     "text": [
      "A sample size of at least 3138 is needed\n"
     ]
    }
   ],
   "source": [
    "total_shops = 105\n",
    "loss_shops = 27\n",
    "\n",
    "p = loss_shops/total_shops\n",
    "\n",
    "score2 = st.norm.interval(0.8)[1]\n",
    "\n",
    "error_lim2 = 0.01\n",
    "\n",
    "n_need2 = np.ceil((score2*np.sqrt(p*(1-p))/error_lim2)**2)\n",
    "\n",
    "print('A sample size of at least %d is needed' % n_need2)"
   ]
  },
  {
   "cell_type": "markdown",
   "metadata": {},
   "source": [
    "## Bonus Challenge\n",
    "\n",
    "Let's consider the following problem:\n",
    "\n",
    "Build a confidence interval of 94% for the real difference between the durations of two brands of spotlights, if a sample of 40 spotlights taken randomly from the first mark gave an average duration of 418 hours, and a sample of 50 bulbs of another brand gave a duration average of 402 hours. The standard deviations of the two\n",
    "populations are 26 hours and 22 hours, respectively.\n",
    "\n",
    "Sometimes, we will be interested in the difference of two different groups of random variables. We can also build a confidence interval for that! We have some different cases regarding the variance but for this specific case (the variance are different and known), we have that:\n",
    "\n",
    "$$\\overline{X} - \\overline{Y}  \\sim N\\left(\\mu_{X} - \\mu_{Y} , \\sqrt{\\frac{\\sigma_{X}^2}{n_X}+\\frac{\\sigma_{Y}^2}{n_Y}}\\right)$$\n",
    "\n",
    "Solve the problem with this information."
   ]
  },
  {
   "cell_type": "code",
   "execution_count": 261,
   "metadata": {
    "ExecuteTime": {
     "end_time": "2021-04-22T10:09:04.161803Z",
     "start_time": "2021-04-22T10:09:04.069698Z"
    }
   },
   "outputs": [
    {
     "data": {
      "text/plain": [
       "(6.303419026585921, 25.69658097341408)"
      ]
     },
     "execution_count": 261,
     "metadata": {},
     "output_type": "execute_result"
    }
   ],
   "source": [
    "spot = 40\n",
    "spot_avg = 418\n",
    "spot_std = 26\n",
    "\n",
    "bulb = 50\n",
    "bulb_avg = 402\n",
    "bulb_std = 22\n",
    "\n",
    "CL = 0.94\n",
    "\n",
    "mean = spot_avg-bulb_avg\n",
    "std_dev = np.sqrt(spot_std**2/spot+bulb_std**2/bulb)\n",
    "\n",
    "score3 = st.norm.interval(CL,loc=mean,scale=std_dev)\n",
    "score3"
   ]
  }
 ],
 "metadata": {
  "kernelspec": {
   "display_name": "Python 3",
   "language": "python",
   "name": "python3"
  },
  "language_info": {
   "codemirror_mode": {
    "name": "ipython",
    "version": 3
   },
   "file_extension": ".py",
   "mimetype": "text/x-python",
   "name": "python",
   "nbconvert_exporter": "python",
   "pygments_lexer": "ipython3",
   "version": "3.8.5"
  },
  "latex_envs": {
   "LaTeX_envs_menu_present": true,
   "autoclose": false,
   "autocomplete": true,
   "bibliofile": "biblio.bib",
   "cite_by": "apalike",
   "current_citInitial": 1,
   "eqLabelWithNumbers": true,
   "eqNumInitial": 1,
   "hotkeys": {
    "equation": "Ctrl-E",
    "itemize": "Ctrl-I"
   },
   "labels_anchors": false,
   "latex_user_defs": false,
   "report_style_numbering": false,
   "user_envs_cfg": false
  },
  "varInspector": {
   "cols": {
    "lenName": 16,
    "lenType": 16,
    "lenVar": 40
   },
   "kernels_config": {
    "python": {
     "delete_cmd_postfix": "",
     "delete_cmd_prefix": "del ",
     "library": "var_list.py",
     "varRefreshCmd": "print(var_dic_list())"
    },
    "r": {
     "delete_cmd_postfix": ") ",
     "delete_cmd_prefix": "rm(",
     "library": "var_list.r",
     "varRefreshCmd": "cat(var_dic_list()) "
    }
   },
   "types_to_exclude": [
    "module",
    "function",
    "builtin_function_or_method",
    "instance",
    "_Feature"
   ],
   "window_display": false
  }
 },
 "nbformat": 4,
 "nbformat_minor": 2
}
